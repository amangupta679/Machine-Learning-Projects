{
 "cells": [
  {
   "cell_type": "code",
   "execution_count": 8,
   "metadata": {},
   "outputs": [],
   "source": [
    "import cv2\n",
    "import pyautogui as mouse\n",
    "\n",
    "model=cv2.CascadeClassifier('closed_palm.xml')\n",
    "video=cv2.VideoCapture(0)\n",
    "\n",
    "while True:\n",
    "    ret,frames=video.read()\n",
    "    objects=model.detectMultiScale(frames,1.2,10)\n",
    "    for x,y,w,h in objects:\n",
    "        cv2.rectangle(frames,(x,y),(x+h,y+w),7,2)\n",
    "    cv2.imshow('Video',frames)\n",
    "    \n",
    "    if cv2.waitKey(1)&0xFF==ord('q'):\n",
    "        break\n",
    "        \n",
    "video.release()\n",
    "cv2.destroyAllWindows()"
   ]
  },
  {
   "cell_type": "code",
   "execution_count": null,
   "metadata": {},
   "outputs": [],
   "source": []
  },
  {
   "cell_type": "code",
   "execution_count": null,
   "metadata": {},
   "outputs": [],
   "source": []
  }
 ],
 "metadata": {
  "kernelspec": {
   "display_name": "Python 3",
   "language": "python",
   "name": "python3"
  },
  "language_info": {
   "codemirror_mode": {
    "name": "ipython",
    "version": 3
   },
   "file_extension": ".py",
   "mimetype": "text/x-python",
   "name": "python",
   "nbconvert_exporter": "python",
   "pygments_lexer": "ipython3",
   "version": "3.6.6"
  }
 },
 "nbformat": 4,
 "nbformat_minor": 2
}
