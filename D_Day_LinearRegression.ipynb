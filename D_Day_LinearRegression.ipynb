{
  "nbformat": 4,
  "nbformat_minor": 0,
  "metadata": {
    "colab": {
      "name": "D_Day_LinearRegression.ipynb",
      "provenance": [],
      "mount_file_id": "1Df0vp7SHpU2Wrx2OSh19k_ESs_Pgk3XM",
      "authorship_tag": "ABX9TyM8viNB9x5y4wnnz2mYJJ23",
      "include_colab_link": true
    },
    "kernelspec": {
      "name": "python3",
      "display_name": "Python 3"
    }
  },
  "cells": [
    {
      "cell_type": "markdown",
      "metadata": {
        "id": "view-in-github",
        "colab_type": "text"
      },
      "source": [
        "<a href=\"https://colab.research.google.com/github/urguru/Machine-Learning-Projects/blob/master/D_Day_LinearRegression.ipynb\" target=\"_parent\"><img src=\"https://colab.research.google.com/assets/colab-badge.svg\" alt=\"Open In Colab\"/></a>"
      ]
    },
    {
      "cell_type": "code",
      "metadata": {
        "id": "8twP-xLIKrxN",
        "colab_type": "code",
        "outputId": "7ea0b89e-3db3-4fec-9c3e-887036d30f64",
        "colab": {
          "base_uri": "https://localhost:8080/",
          "height": 643
        }
      },
      "source": [
        "import pandas as pd  \n",
        "import numpy as np  \n",
        "import matplotlib.pyplot as plt \n",
        "from math import sqrt \n",
        "import seaborn as seabornInstance \n",
        "from sklearn.model_selection import train_test_split \n",
        "from sklearn.linear_model import LinearRegression\n",
        "from sklearn import metrics\n",
        "%matplotlib inline\n",
        "\n",
        "dataset = pd.read_csv('/content/drive/My Drive/Colab Notebooks/ML/Weather.csv')\n",
        "dataset"
      ],
      "execution_count": 0,
      "outputs": [
        {
          "output_type": "stream",
          "text": [
            "/usr/local/lib/python3.6/dist-packages/IPython/core/interactiveshell.py:2718: DtypeWarning: Columns (7,8,18,25) have mixed types. Specify dtype option on import or set low_memory=False.\n",
            "  interactivity=interactivity, compiler=compiler, result=result)\n"
          ],
          "name": "stderr"
        },
        {
          "output_type": "execute_result",
          "data": {
            "text/html": [
              "<div>\n",
              "<style scoped>\n",
              "    .dataframe tbody tr th:only-of-type {\n",
              "        vertical-align: middle;\n",
              "    }\n",
              "\n",
              "    .dataframe tbody tr th {\n",
              "        vertical-align: top;\n",
              "    }\n",
              "\n",
              "    .dataframe thead th {\n",
              "        text-align: right;\n",
              "    }\n",
              "</style>\n",
              "<table border=\"1\" class=\"dataframe\">\n",
              "  <thead>\n",
              "    <tr style=\"text-align: right;\">\n",
              "      <th></th>\n",
              "      <th>STA</th>\n",
              "      <th>Date</th>\n",
              "      <th>Precip</th>\n",
              "      <th>WindGustSpd</th>\n",
              "      <th>MaxTemp</th>\n",
              "      <th>MinTemp</th>\n",
              "      <th>MeanTemp</th>\n",
              "      <th>Snowfall</th>\n",
              "      <th>PoorWeather</th>\n",
              "      <th>YR</th>\n",
              "      <th>MO</th>\n",
              "      <th>DA</th>\n",
              "      <th>PRCP</th>\n",
              "      <th>DR</th>\n",
              "      <th>SPD</th>\n",
              "      <th>MAX</th>\n",
              "      <th>MIN</th>\n",
              "      <th>MEA</th>\n",
              "      <th>SNF</th>\n",
              "      <th>SND</th>\n",
              "      <th>FT</th>\n",
              "      <th>FB</th>\n",
              "      <th>FTI</th>\n",
              "      <th>ITH</th>\n",
              "      <th>PGT</th>\n",
              "      <th>TSHDSBRSGF</th>\n",
              "      <th>SD3</th>\n",
              "      <th>RHX</th>\n",
              "      <th>RHN</th>\n",
              "      <th>RVG</th>\n",
              "      <th>WTE</th>\n",
              "    </tr>\n",
              "  </thead>\n",
              "  <tbody>\n",
              "    <tr>\n",
              "      <th>0</th>\n",
              "      <td>10001</td>\n",
              "      <td>1942-7-1</td>\n",
              "      <td>1.016</td>\n",
              "      <td>NaN</td>\n",
              "      <td>25.555556</td>\n",
              "      <td>22.222222</td>\n",
              "      <td>23.888889</td>\n",
              "      <td>0</td>\n",
              "      <td>NaN</td>\n",
              "      <td>42</td>\n",
              "      <td>7</td>\n",
              "      <td>1</td>\n",
              "      <td>0.04</td>\n",
              "      <td>NaN</td>\n",
              "      <td>NaN</td>\n",
              "      <td>78.0</td>\n",
              "      <td>72.0</td>\n",
              "      <td>75.0</td>\n",
              "      <td>0</td>\n",
              "      <td>NaN</td>\n",
              "      <td>NaN</td>\n",
              "      <td>NaN</td>\n",
              "      <td>NaN</td>\n",
              "      <td>NaN</td>\n",
              "      <td>NaN</td>\n",
              "      <td>NaN</td>\n",
              "      <td>NaN</td>\n",
              "      <td>NaN</td>\n",
              "      <td>NaN</td>\n",
              "      <td>NaN</td>\n",
              "      <td>NaN</td>\n",
              "    </tr>\n",
              "    <tr>\n",
              "      <th>1</th>\n",
              "      <td>10001</td>\n",
              "      <td>1942-7-2</td>\n",
              "      <td>0</td>\n",
              "      <td>NaN</td>\n",
              "      <td>28.888889</td>\n",
              "      <td>21.666667</td>\n",
              "      <td>25.555556</td>\n",
              "      <td>0</td>\n",
              "      <td>NaN</td>\n",
              "      <td>42</td>\n",
              "      <td>7</td>\n",
              "      <td>2</td>\n",
              "      <td>0</td>\n",
              "      <td>NaN</td>\n",
              "      <td>NaN</td>\n",
              "      <td>84.0</td>\n",
              "      <td>71.0</td>\n",
              "      <td>78.0</td>\n",
              "      <td>0</td>\n",
              "      <td>NaN</td>\n",
              "      <td>NaN</td>\n",
              "      <td>NaN</td>\n",
              "      <td>NaN</td>\n",
              "      <td>NaN</td>\n",
              "      <td>NaN</td>\n",
              "      <td>NaN</td>\n",
              "      <td>NaN</td>\n",
              "      <td>NaN</td>\n",
              "      <td>NaN</td>\n",
              "      <td>NaN</td>\n",
              "      <td>NaN</td>\n",
              "    </tr>\n",
              "    <tr>\n",
              "      <th>2</th>\n",
              "      <td>10001</td>\n",
              "      <td>1942-7-3</td>\n",
              "      <td>2.54</td>\n",
              "      <td>NaN</td>\n",
              "      <td>26.111111</td>\n",
              "      <td>22.222222</td>\n",
              "      <td>24.444444</td>\n",
              "      <td>0</td>\n",
              "      <td>NaN</td>\n",
              "      <td>42</td>\n",
              "      <td>7</td>\n",
              "      <td>3</td>\n",
              "      <td>0.1</td>\n",
              "      <td>NaN</td>\n",
              "      <td>NaN</td>\n",
              "      <td>79.0</td>\n",
              "      <td>72.0</td>\n",
              "      <td>76.0</td>\n",
              "      <td>0</td>\n",
              "      <td>NaN</td>\n",
              "      <td>NaN</td>\n",
              "      <td>NaN</td>\n",
              "      <td>NaN</td>\n",
              "      <td>NaN</td>\n",
              "      <td>NaN</td>\n",
              "      <td>NaN</td>\n",
              "      <td>NaN</td>\n",
              "      <td>NaN</td>\n",
              "      <td>NaN</td>\n",
              "      <td>NaN</td>\n",
              "      <td>NaN</td>\n",
              "    </tr>\n",
              "    <tr>\n",
              "      <th>3</th>\n",
              "      <td>10001</td>\n",
              "      <td>1942-7-4</td>\n",
              "      <td>2.54</td>\n",
              "      <td>NaN</td>\n",
              "      <td>26.666667</td>\n",
              "      <td>22.222222</td>\n",
              "      <td>24.444444</td>\n",
              "      <td>0</td>\n",
              "      <td>NaN</td>\n",
              "      <td>42</td>\n",
              "      <td>7</td>\n",
              "      <td>4</td>\n",
              "      <td>0.1</td>\n",
              "      <td>NaN</td>\n",
              "      <td>NaN</td>\n",
              "      <td>80.0</td>\n",
              "      <td>72.0</td>\n",
              "      <td>76.0</td>\n",
              "      <td>0</td>\n",
              "      <td>NaN</td>\n",
              "      <td>NaN</td>\n",
              "      <td>NaN</td>\n",
              "      <td>NaN</td>\n",
              "      <td>NaN</td>\n",
              "      <td>NaN</td>\n",
              "      <td>NaN</td>\n",
              "      <td>NaN</td>\n",
              "      <td>NaN</td>\n",
              "      <td>NaN</td>\n",
              "      <td>NaN</td>\n",
              "      <td>NaN</td>\n",
              "    </tr>\n",
              "    <tr>\n",
              "      <th>4</th>\n",
              "      <td>10001</td>\n",
              "      <td>1942-7-5</td>\n",
              "      <td>0</td>\n",
              "      <td>NaN</td>\n",
              "      <td>26.666667</td>\n",
              "      <td>21.666667</td>\n",
              "      <td>24.444444</td>\n",
              "      <td>0</td>\n",
              "      <td>NaN</td>\n",
              "      <td>42</td>\n",
              "      <td>7</td>\n",
              "      <td>5</td>\n",
              "      <td>0</td>\n",
              "      <td>NaN</td>\n",
              "      <td>NaN</td>\n",
              "      <td>80.0</td>\n",
              "      <td>71.0</td>\n",
              "      <td>76.0</td>\n",
              "      <td>0</td>\n",
              "      <td>NaN</td>\n",
              "      <td>NaN</td>\n",
              "      <td>NaN</td>\n",
              "      <td>NaN</td>\n",
              "      <td>NaN</td>\n",
              "      <td>NaN</td>\n",
              "      <td>NaN</td>\n",
              "      <td>NaN</td>\n",
              "      <td>NaN</td>\n",
              "      <td>NaN</td>\n",
              "      <td>NaN</td>\n",
              "      <td>NaN</td>\n",
              "    </tr>\n",
              "    <tr>\n",
              "      <th>...</th>\n",
              "      <td>...</td>\n",
              "      <td>...</td>\n",
              "      <td>...</td>\n",
              "      <td>...</td>\n",
              "      <td>...</td>\n",
              "      <td>...</td>\n",
              "      <td>...</td>\n",
              "      <td>...</td>\n",
              "      <td>...</td>\n",
              "      <td>...</td>\n",
              "      <td>...</td>\n",
              "      <td>...</td>\n",
              "      <td>...</td>\n",
              "      <td>...</td>\n",
              "      <td>...</td>\n",
              "      <td>...</td>\n",
              "      <td>...</td>\n",
              "      <td>...</td>\n",
              "      <td>...</td>\n",
              "      <td>...</td>\n",
              "      <td>...</td>\n",
              "      <td>...</td>\n",
              "      <td>...</td>\n",
              "      <td>...</td>\n",
              "      <td>...</td>\n",
              "      <td>...</td>\n",
              "      <td>...</td>\n",
              "      <td>...</td>\n",
              "      <td>...</td>\n",
              "      <td>...</td>\n",
              "      <td>...</td>\n",
              "    </tr>\n",
              "    <tr>\n",
              "      <th>119035</th>\n",
              "      <td>82506</td>\n",
              "      <td>1945-12-27</td>\n",
              "      <td>0</td>\n",
              "      <td>NaN</td>\n",
              "      <td>28.333333</td>\n",
              "      <td>18.333333</td>\n",
              "      <td>23.333333</td>\n",
              "      <td>0</td>\n",
              "      <td>NaN</td>\n",
              "      <td>45</td>\n",
              "      <td>12</td>\n",
              "      <td>27</td>\n",
              "      <td>0</td>\n",
              "      <td>NaN</td>\n",
              "      <td>NaN</td>\n",
              "      <td>83.0</td>\n",
              "      <td>65.0</td>\n",
              "      <td>74.0</td>\n",
              "      <td>0</td>\n",
              "      <td>NaN</td>\n",
              "      <td>NaN</td>\n",
              "      <td>NaN</td>\n",
              "      <td>NaN</td>\n",
              "      <td>NaN</td>\n",
              "      <td>NaN</td>\n",
              "      <td>NaN</td>\n",
              "      <td>NaN</td>\n",
              "      <td>NaN</td>\n",
              "      <td>NaN</td>\n",
              "      <td>NaN</td>\n",
              "      <td>NaN</td>\n",
              "    </tr>\n",
              "    <tr>\n",
              "      <th>119036</th>\n",
              "      <td>82506</td>\n",
              "      <td>1945-12-28</td>\n",
              "      <td>9.906</td>\n",
              "      <td>NaN</td>\n",
              "      <td>29.444444</td>\n",
              "      <td>18.333333</td>\n",
              "      <td>23.888889</td>\n",
              "      <td>0</td>\n",
              "      <td>1</td>\n",
              "      <td>45</td>\n",
              "      <td>12</td>\n",
              "      <td>28</td>\n",
              "      <td>0.39</td>\n",
              "      <td>NaN</td>\n",
              "      <td>NaN</td>\n",
              "      <td>85.0</td>\n",
              "      <td>65.0</td>\n",
              "      <td>75.0</td>\n",
              "      <td>0</td>\n",
              "      <td>NaN</td>\n",
              "      <td>NaN</td>\n",
              "      <td>NaN</td>\n",
              "      <td>NaN</td>\n",
              "      <td>NaN</td>\n",
              "      <td>NaN</td>\n",
              "      <td>1</td>\n",
              "      <td>NaN</td>\n",
              "      <td>NaN</td>\n",
              "      <td>NaN</td>\n",
              "      <td>NaN</td>\n",
              "      <td>NaN</td>\n",
              "    </tr>\n",
              "    <tr>\n",
              "      <th>119037</th>\n",
              "      <td>82506</td>\n",
              "      <td>1945-12-29</td>\n",
              "      <td>0</td>\n",
              "      <td>NaN</td>\n",
              "      <td>28.333333</td>\n",
              "      <td>18.333333</td>\n",
              "      <td>23.333333</td>\n",
              "      <td>0</td>\n",
              "      <td>1</td>\n",
              "      <td>45</td>\n",
              "      <td>12</td>\n",
              "      <td>29</td>\n",
              "      <td>0</td>\n",
              "      <td>NaN</td>\n",
              "      <td>NaN</td>\n",
              "      <td>83.0</td>\n",
              "      <td>65.0</td>\n",
              "      <td>74.0</td>\n",
              "      <td>0</td>\n",
              "      <td>NaN</td>\n",
              "      <td>NaN</td>\n",
              "      <td>NaN</td>\n",
              "      <td>NaN</td>\n",
              "      <td>NaN</td>\n",
              "      <td>NaN</td>\n",
              "      <td>1</td>\n",
              "      <td>NaN</td>\n",
              "      <td>NaN</td>\n",
              "      <td>NaN</td>\n",
              "      <td>NaN</td>\n",
              "      <td>NaN</td>\n",
              "    </tr>\n",
              "    <tr>\n",
              "      <th>119038</th>\n",
              "      <td>82506</td>\n",
              "      <td>1945-12-30</td>\n",
              "      <td>0</td>\n",
              "      <td>NaN</td>\n",
              "      <td>28.333333</td>\n",
              "      <td>18.333333</td>\n",
              "      <td>23.333333</td>\n",
              "      <td>0</td>\n",
              "      <td>NaN</td>\n",
              "      <td>45</td>\n",
              "      <td>12</td>\n",
              "      <td>30</td>\n",
              "      <td>0</td>\n",
              "      <td>NaN</td>\n",
              "      <td>NaN</td>\n",
              "      <td>83.0</td>\n",
              "      <td>65.0</td>\n",
              "      <td>74.0</td>\n",
              "      <td>0</td>\n",
              "      <td>NaN</td>\n",
              "      <td>NaN</td>\n",
              "      <td>NaN</td>\n",
              "      <td>NaN</td>\n",
              "      <td>NaN</td>\n",
              "      <td>NaN</td>\n",
              "      <td>NaN</td>\n",
              "      <td>NaN</td>\n",
              "      <td>NaN</td>\n",
              "      <td>NaN</td>\n",
              "      <td>NaN</td>\n",
              "      <td>NaN</td>\n",
              "    </tr>\n",
              "    <tr>\n",
              "      <th>119039</th>\n",
              "      <td>82506</td>\n",
              "      <td>1945-12-31</td>\n",
              "      <td>0</td>\n",
              "      <td>NaN</td>\n",
              "      <td>29.444444</td>\n",
              "      <td>17.222222</td>\n",
              "      <td>23.333333</td>\n",
              "      <td>0</td>\n",
              "      <td>NaN</td>\n",
              "      <td>45</td>\n",
              "      <td>12</td>\n",
              "      <td>31</td>\n",
              "      <td>0</td>\n",
              "      <td>NaN</td>\n",
              "      <td>NaN</td>\n",
              "      <td>85.0</td>\n",
              "      <td>63.0</td>\n",
              "      <td>74.0</td>\n",
              "      <td>0</td>\n",
              "      <td>NaN</td>\n",
              "      <td>NaN</td>\n",
              "      <td>NaN</td>\n",
              "      <td>NaN</td>\n",
              "      <td>NaN</td>\n",
              "      <td>NaN</td>\n",
              "      <td>NaN</td>\n",
              "      <td>NaN</td>\n",
              "      <td>NaN</td>\n",
              "      <td>NaN</td>\n",
              "      <td>NaN</td>\n",
              "      <td>NaN</td>\n",
              "    </tr>\n",
              "  </tbody>\n",
              "</table>\n",
              "<p>119040 rows × 31 columns</p>\n",
              "</div>"
            ],
            "text/plain": [
              "          STA        Date Precip  WindGustSpd  ...  RHX  RHN  RVG WTE\n",
              "0       10001    1942-7-1  1.016          NaN  ...  NaN  NaN  NaN NaN\n",
              "1       10001    1942-7-2      0          NaN  ...  NaN  NaN  NaN NaN\n",
              "2       10001    1942-7-3   2.54          NaN  ...  NaN  NaN  NaN NaN\n",
              "3       10001    1942-7-4   2.54          NaN  ...  NaN  NaN  NaN NaN\n",
              "4       10001    1942-7-5      0          NaN  ...  NaN  NaN  NaN NaN\n",
              "...       ...         ...    ...          ...  ...  ...  ...  ...  ..\n",
              "119035  82506  1945-12-27      0          NaN  ...  NaN  NaN  NaN NaN\n",
              "119036  82506  1945-12-28  9.906          NaN  ...  NaN  NaN  NaN NaN\n",
              "119037  82506  1945-12-29      0          NaN  ...  NaN  NaN  NaN NaN\n",
              "119038  82506  1945-12-30      0          NaN  ...  NaN  NaN  NaN NaN\n",
              "119039  82506  1945-12-31      0          NaN  ...  NaN  NaN  NaN NaN\n",
              "\n",
              "[119040 rows x 31 columns]"
            ]
          },
          "metadata": {
            "tags": []
          },
          "execution_count": 42
        }
      ]
    },
    {
      "cell_type": "code",
      "metadata": {
        "id": "Sco-ROyeeZqH",
        "colab_type": "code",
        "outputId": "61094c09-ae5b-4156-ca2e-f467c0726d40",
        "colab": {
          "base_uri": "https://localhost:8080/",
          "height": 34
        }
      },
      "source": [
        "dataset.shape"
      ],
      "execution_count": 0,
      "outputs": [
        {
          "output_type": "execute_result",
          "data": {
            "text/plain": [
              "(119040, 31)"
            ]
          },
          "metadata": {
            "tags": []
          },
          "execution_count": 5
        }
      ]
    },
    {
      "cell_type": "code",
      "metadata": {
        "id": "VQQ7h5MBehvL",
        "colab_type": "code",
        "outputId": "e294345f-7a22-49b8-c86a-06e5e7778526",
        "colab": {
          "base_uri": "https://localhost:8080/",
          "height": 317
        }
      },
      "source": [
        "dataset.describe()"
      ],
      "execution_count": 0,
      "outputs": [
        {
          "output_type": "execute_result",
          "data": {
            "text/html": [
              "<div>\n",
              "<style scoped>\n",
              "    .dataframe tbody tr th:only-of-type {\n",
              "        vertical-align: middle;\n",
              "    }\n",
              "\n",
              "    .dataframe tbody tr th {\n",
              "        vertical-align: top;\n",
              "    }\n",
              "\n",
              "    .dataframe thead th {\n",
              "        text-align: right;\n",
              "    }\n",
              "</style>\n",
              "<table border=\"1\" class=\"dataframe\">\n",
              "  <thead>\n",
              "    <tr style=\"text-align: right;\">\n",
              "      <th></th>\n",
              "      <th>STA</th>\n",
              "      <th>WindGustSpd</th>\n",
              "      <th>MaxTemp</th>\n",
              "      <th>MinTemp</th>\n",
              "      <th>MeanTemp</th>\n",
              "      <th>YR</th>\n",
              "      <th>MO</th>\n",
              "      <th>DA</th>\n",
              "      <th>DR</th>\n",
              "      <th>SPD</th>\n",
              "      <th>MAX</th>\n",
              "      <th>MIN</th>\n",
              "      <th>MEA</th>\n",
              "      <th>SND</th>\n",
              "      <th>FT</th>\n",
              "      <th>FB</th>\n",
              "      <th>FTI</th>\n",
              "      <th>ITH</th>\n",
              "      <th>PGT</th>\n",
              "      <th>SD3</th>\n",
              "      <th>RHX</th>\n",
              "      <th>RHN</th>\n",
              "      <th>RVG</th>\n",
              "      <th>WTE</th>\n",
              "    </tr>\n",
              "  </thead>\n",
              "  <tbody>\n",
              "    <tr>\n",
              "      <th>count</th>\n",
              "      <td>119040.000000</td>\n",
              "      <td>532.000000</td>\n",
              "      <td>119040.000000</td>\n",
              "      <td>119040.000000</td>\n",
              "      <td>119040.000000</td>\n",
              "      <td>119040.000000</td>\n",
              "      <td>119040.000000</td>\n",
              "      <td>119040.000000</td>\n",
              "      <td>533.000000</td>\n",
              "      <td>532.000000</td>\n",
              "      <td>118566.000000</td>\n",
              "      <td>118572.000000</td>\n",
              "      <td>118542.000000</td>\n",
              "      <td>5563.0</td>\n",
              "      <td>0.0</td>\n",
              "      <td>0.0</td>\n",
              "      <td>0.0</td>\n",
              "      <td>0.0</td>\n",
              "      <td>525.000000</td>\n",
              "      <td>0.0</td>\n",
              "      <td>0.0</td>\n",
              "      <td>0.0</td>\n",
              "      <td>0.0</td>\n",
              "      <td>0.0</td>\n",
              "    </tr>\n",
              "    <tr>\n",
              "      <th>mean</th>\n",
              "      <td>29659.435795</td>\n",
              "      <td>37.774534</td>\n",
              "      <td>27.045111</td>\n",
              "      <td>17.789511</td>\n",
              "      <td>22.411631</td>\n",
              "      <td>43.805284</td>\n",
              "      <td>6.726016</td>\n",
              "      <td>15.797530</td>\n",
              "      <td>26.998124</td>\n",
              "      <td>20.396617</td>\n",
              "      <td>81.003745</td>\n",
              "      <td>64.273808</td>\n",
              "      <td>72.644843</td>\n",
              "      <td>0.0</td>\n",
              "      <td>NaN</td>\n",
              "      <td>NaN</td>\n",
              "      <td>NaN</td>\n",
              "      <td>NaN</td>\n",
              "      <td>12.085333</td>\n",
              "      <td>NaN</td>\n",
              "      <td>NaN</td>\n",
              "      <td>NaN</td>\n",
              "      <td>NaN</td>\n",
              "      <td>NaN</td>\n",
              "    </tr>\n",
              "    <tr>\n",
              "      <th>std</th>\n",
              "      <td>20953.209402</td>\n",
              "      <td>10.297808</td>\n",
              "      <td>8.717817</td>\n",
              "      <td>8.334572</td>\n",
              "      <td>8.297982</td>\n",
              "      <td>1.136718</td>\n",
              "      <td>3.425561</td>\n",
              "      <td>8.794541</td>\n",
              "      <td>15.221732</td>\n",
              "      <td>5.560371</td>\n",
              "      <td>14.869361</td>\n",
              "      <td>14.481498</td>\n",
              "      <td>14.211082</td>\n",
              "      <td>0.0</td>\n",
              "      <td>NaN</td>\n",
              "      <td>NaN</td>\n",
              "      <td>NaN</td>\n",
              "      <td>NaN</td>\n",
              "      <td>5.731328</td>\n",
              "      <td>NaN</td>\n",
              "      <td>NaN</td>\n",
              "      <td>NaN</td>\n",
              "      <td>NaN</td>\n",
              "      <td>NaN</td>\n",
              "    </tr>\n",
              "    <tr>\n",
              "      <th>min</th>\n",
              "      <td>10001.000000</td>\n",
              "      <td>18.520000</td>\n",
              "      <td>-33.333333</td>\n",
              "      <td>-38.333333</td>\n",
              "      <td>-35.555556</td>\n",
              "      <td>40.000000</td>\n",
              "      <td>1.000000</td>\n",
              "      <td>1.000000</td>\n",
              "      <td>2.000000</td>\n",
              "      <td>10.000000</td>\n",
              "      <td>-28.000000</td>\n",
              "      <td>-37.000000</td>\n",
              "      <td>-32.000000</td>\n",
              "      <td>0.0</td>\n",
              "      <td>NaN</td>\n",
              "      <td>NaN</td>\n",
              "      <td>NaN</td>\n",
              "      <td>NaN</td>\n",
              "      <td>0.000000</td>\n",
              "      <td>NaN</td>\n",
              "      <td>NaN</td>\n",
              "      <td>NaN</td>\n",
              "      <td>NaN</td>\n",
              "      <td>NaN</td>\n",
              "    </tr>\n",
              "    <tr>\n",
              "      <th>25%</th>\n",
              "      <td>11801.000000</td>\n",
              "      <td>29.632000</td>\n",
              "      <td>25.555556</td>\n",
              "      <td>15.000000</td>\n",
              "      <td>20.555556</td>\n",
              "      <td>43.000000</td>\n",
              "      <td>4.000000</td>\n",
              "      <td>8.000000</td>\n",
              "      <td>11.000000</td>\n",
              "      <td>16.000000</td>\n",
              "      <td>78.000000</td>\n",
              "      <td>59.000000</td>\n",
              "      <td>69.000000</td>\n",
              "      <td>0.0</td>\n",
              "      <td>NaN</td>\n",
              "      <td>NaN</td>\n",
              "      <td>NaN</td>\n",
              "      <td>NaN</td>\n",
              "      <td>8.500000</td>\n",
              "      <td>NaN</td>\n",
              "      <td>NaN</td>\n",
              "      <td>NaN</td>\n",
              "      <td>NaN</td>\n",
              "      <td>NaN</td>\n",
              "    </tr>\n",
              "    <tr>\n",
              "      <th>50%</th>\n",
              "      <td>22508.000000</td>\n",
              "      <td>37.040000</td>\n",
              "      <td>29.444444</td>\n",
              "      <td>21.111111</td>\n",
              "      <td>25.555556</td>\n",
              "      <td>44.000000</td>\n",
              "      <td>7.000000</td>\n",
              "      <td>16.000000</td>\n",
              "      <td>32.000000</td>\n",
              "      <td>20.000000</td>\n",
              "      <td>85.000000</td>\n",
              "      <td>70.000000</td>\n",
              "      <td>78.000000</td>\n",
              "      <td>0.0</td>\n",
              "      <td>NaN</td>\n",
              "      <td>NaN</td>\n",
              "      <td>NaN</td>\n",
              "      <td>NaN</td>\n",
              "      <td>11.600000</td>\n",
              "      <td>NaN</td>\n",
              "      <td>NaN</td>\n",
              "      <td>NaN</td>\n",
              "      <td>NaN</td>\n",
              "      <td>NaN</td>\n",
              "    </tr>\n",
              "    <tr>\n",
              "      <th>75%</th>\n",
              "      <td>33501.000000</td>\n",
              "      <td>43.059000</td>\n",
              "      <td>31.666667</td>\n",
              "      <td>23.333333</td>\n",
              "      <td>27.222222</td>\n",
              "      <td>45.000000</td>\n",
              "      <td>10.000000</td>\n",
              "      <td>23.000000</td>\n",
              "      <td>34.000000</td>\n",
              "      <td>23.250000</td>\n",
              "      <td>89.000000</td>\n",
              "      <td>74.000000</td>\n",
              "      <td>81.000000</td>\n",
              "      <td>0.0</td>\n",
              "      <td>NaN</td>\n",
              "      <td>NaN</td>\n",
              "      <td>NaN</td>\n",
              "      <td>NaN</td>\n",
              "      <td>15.000000</td>\n",
              "      <td>NaN</td>\n",
              "      <td>NaN</td>\n",
              "      <td>NaN</td>\n",
              "      <td>NaN</td>\n",
              "      <td>NaN</td>\n",
              "    </tr>\n",
              "    <tr>\n",
              "      <th>max</th>\n",
              "      <td>82506.000000</td>\n",
              "      <td>75.932000</td>\n",
              "      <td>50.000000</td>\n",
              "      <td>34.444444</td>\n",
              "      <td>40.000000</td>\n",
              "      <td>45.000000</td>\n",
              "      <td>12.000000</td>\n",
              "      <td>31.000000</td>\n",
              "      <td>78.000000</td>\n",
              "      <td>41.000000</td>\n",
              "      <td>122.000000</td>\n",
              "      <td>94.000000</td>\n",
              "      <td>104.000000</td>\n",
              "      <td>0.0</td>\n",
              "      <td>NaN</td>\n",
              "      <td>NaN</td>\n",
              "      <td>NaN</td>\n",
              "      <td>NaN</td>\n",
              "      <td>23.900000</td>\n",
              "      <td>NaN</td>\n",
              "      <td>NaN</td>\n",
              "      <td>NaN</td>\n",
              "      <td>NaN</td>\n",
              "      <td>NaN</td>\n",
              "    </tr>\n",
              "  </tbody>\n",
              "</table>\n",
              "</div>"
            ],
            "text/plain": [
              "                 STA  WindGustSpd        MaxTemp  ...  RHN  RVG  WTE\n",
              "count  119040.000000   532.000000  119040.000000  ...  0.0  0.0  0.0\n",
              "mean    29659.435795    37.774534      27.045111  ...  NaN  NaN  NaN\n",
              "std     20953.209402    10.297808       8.717817  ...  NaN  NaN  NaN\n",
              "min     10001.000000    18.520000     -33.333333  ...  NaN  NaN  NaN\n",
              "25%     11801.000000    29.632000      25.555556  ...  NaN  NaN  NaN\n",
              "50%     22508.000000    37.040000      29.444444  ...  NaN  NaN  NaN\n",
              "75%     33501.000000    43.059000      31.666667  ...  NaN  NaN  NaN\n",
              "max     82506.000000    75.932000      50.000000  ...  NaN  NaN  NaN\n",
              "\n",
              "[8 rows x 24 columns]"
            ]
          },
          "metadata": {
            "tags": []
          },
          "execution_count": 6
        }
      ]
    },
    {
      "cell_type": "code",
      "metadata": {
        "id": "OB_COxIufJpq",
        "colab_type": "code",
        "outputId": "fa77eeca-68a7-4bf5-cc98-5222957174b8",
        "colab": {
          "base_uri": "https://localhost:8080/",
          "height": 295
        }
      },
      "source": [
        "dataset.plot(x='MinTemp',y='MaxTemp',style='o')\n",
        "plt.title('MinTemp vs Maxtemp')\n",
        "plt.xlabel('MinTemp')\n",
        "plt.ylabel('MaxTemp')\n",
        "plt.show()"
      ],
      "execution_count": 0,
      "outputs": [
        {
          "output_type": "display_data",
          "data": {
            "image/png": "[encoded data removed]",
            "text/plain": [
              "<Figure size 432x288 with 1 Axes>"
            ]
          },
          "metadata": {
            "tags": []
          }
        }
      ]
    },
    {
      "cell_type": "code",
      "metadata": {
        "id": "iVunjBpggOM1",
        "colab_type": "code",
        "outputId": "2defaa8a-5981-45e2-dcb8-ab833346a91c",
        "colab": {
          "base_uri": "https://localhost:8080/",
          "height": 51
        }
      },
      "source": [
        "dataset.DA.unique()"
      ],
      "execution_count": 0,
      "outputs": [
        {
          "output_type": "execute_result",
          "data": {
            "text/plain": [
              "array([ 1,  2,  3,  4,  5,  6,  7,  8,  9, 10, 11, 12, 13, 14, 15, 16, 17,\n",
              "       18, 19, 20, 21, 22, 23, 24, 25, 26, 27, 28, 29, 30, 31])"
            ]
          },
          "metadata": {
            "tags": []
          },
          "execution_count": 15
        }
      ]
    },
    {
      "cell_type": "code",
      "metadata": {
        "id": "Brv3AXt6iAvR",
        "colab_type": "code",
        "outputId": "0aad38c9-7004-4eb1-dccb-f95f2c8e85f7",
        "colab": {
          "base_uri": "https://localhost:8080/",
          "height": 623
        }
      },
      "source": [
        "plt.figure(figsize=(10,10))\n",
        "plt.tight_layout()\n",
        "seabornInstance.distplot(dataset['MaxTemp'])"
      ],
      "execution_count": 0,
      "outputs": [
        {
          "output_type": "execute_result",
          "data": {
            "text/plain": [
              "<matplotlib.axes._subplots.AxesSubplot at 0x7faa4648efd0>"
            ]
          },
          "metadata": {
            "tags": []
          },
          "execution_count": 19
        },
        {
          "output_type": "display_data",
          "data": {
            "image/png": "[encoded data removed]",
            "text/plain": [
              "<Figure size 720x720 with 1 Axes>"
            ]
          },
          "metadata": {
            "tags": []
          }
        }
      ]
    },
    {
      "cell_type": "code",
      "metadata": {
        "id": "xb_ryFu2igt6",
        "colab_type": "code",
        "colab": {}
      },
      "source": [
        "X=dataset['MinTemp'].values.reshape(-1,1)\n",
        "Y=dataset['MaxTemp'].values.reshape(-1,1)\n"
      ],
      "execution_count": 0,
      "outputs": []
    },
    {
      "cell_type": "code",
      "metadata": {
        "id": "ssi0CI6Ni910",
        "colab_type": "code",
        "colab": {}
      },
      "source": [
        "X_train,X_test,Y_train,Y_test=train_test_split(X,Y,test_size=0.2,random_state=0)"
      ],
      "execution_count": 0,
      "outputs": []
    },
    {
      "cell_type": "code",
      "metadata": {
        "id": "gG5-Qys9jU8K",
        "colab_type": "code",
        "outputId": "5d92dbfb-ebe0-407a-94bf-aefe163daeb2",
        "colab": {
          "base_uri": "https://localhost:8080/",
          "height": 34
        }
      },
      "source": [
        "regressor=LinearRegression()\n",
        "regressor.fit(X_train,Y_train)"
      ],
      "execution_count": 0,
      "outputs": [
        {
          "output_type": "execute_result",
          "data": {
            "text/plain": [
              "LinearRegression(copy_X=True, fit_intercept=True, n_jobs=None, normalize=False)"
            ]
          },
          "metadata": {
            "tags": []
          },
          "execution_count": 26
        }
      ]
    },
    {
      "cell_type": "code",
      "metadata": {
        "id": "zPXnkTOSjk5r",
        "colab_type": "code",
        "outputId": "e96dd33a-35d1-40fa-ad3f-6eeb5774d3db",
        "colab": {
          "base_uri": "https://localhost:8080/",
          "height": 51
        }
      },
      "source": [
        "print(regressor.intercept_)\n",
        "print(regressor.coef_)"
      ],
      "execution_count": 0,
      "outputs": [
        {
          "output_type": "stream",
          "text": [
            "[10.66185201]\n",
            "[[0.92033997]]\n"
          ],
          "name": "stdout"
        }
      ]
    },
    {
      "cell_type": "code",
      "metadata": {
        "id": "fHGyOXs2jykm",
        "colab_type": "code",
        "colab": {}
      },
      "source": [
        "Y_pred=regressor.predict(X_test)"
      ],
      "execution_count": 0,
      "outputs": []
    },
    {
      "cell_type": "code",
      "metadata": {
        "id": "j2pVc4Qyj-Vu",
        "colab_type": "code",
        "outputId": "23f043cb-3792-4f27-c774-e3fab95db143",
        "colab": {
          "base_uri": "https://localhost:8080/",
          "height": 419
        }
      },
      "source": [
        "df=pd.DataFrame({'Actual':Y_test.flatten(),'Predicted':Y_pred.flatten()})\n",
        "df"
      ],
      "execution_count": 0,
      "outputs": [
        {
          "output_type": "execute_result",
          "data": {
            "text/html": [
              "<div>\n",
              "<style scoped>\n",
              "    .dataframe tbody tr th:only-of-type {\n",
              "        vertical-align: middle;\n",
              "    }\n",
              "\n",
              "    .dataframe tbody tr th {\n",
              "        vertical-align: top;\n",
              "    }\n",
              "\n",
              "    .dataframe thead th {\n",
              "        text-align: right;\n",
              "    }\n",
              "</style>\n",
              "<table border=\"1\" class=\"dataframe\">\n",
              "  <thead>\n",
              "    <tr style=\"text-align: right;\">\n",
              "      <th></th>\n",
              "      <th>Actual</th>\n",
              "      <th>Predicted</th>\n",
              "    </tr>\n",
              "  </thead>\n",
              "  <tbody>\n",
              "    <tr>\n",
              "      <th>0</th>\n",
              "      <td>28.888889</td>\n",
              "      <td>33.670351</td>\n",
              "    </tr>\n",
              "    <tr>\n",
              "      <th>1</th>\n",
              "      <td>31.111111</td>\n",
              "      <td>30.091251</td>\n",
              "    </tr>\n",
              "    <tr>\n",
              "      <th>2</th>\n",
              "      <td>27.222222</td>\n",
              "      <td>26.512151</td>\n",
              "    </tr>\n",
              "    <tr>\n",
              "      <th>3</th>\n",
              "      <td>28.888889</td>\n",
              "      <td>31.113851</td>\n",
              "    </tr>\n",
              "    <tr>\n",
              "      <th>4</th>\n",
              "      <td>23.333333</td>\n",
              "      <td>15.774852</td>\n",
              "    </tr>\n",
              "    <tr>\n",
              "      <th>...</th>\n",
              "      <td>...</td>\n",
              "      <td>...</td>\n",
              "    </tr>\n",
              "    <tr>\n",
              "      <th>23803</th>\n",
              "      <td>32.777778</td>\n",
              "      <td>32.136451</td>\n",
              "    </tr>\n",
              "    <tr>\n",
              "      <th>23804</th>\n",
              "      <td>32.222222</td>\n",
              "      <td>29.068651</td>\n",
              "    </tr>\n",
              "    <tr>\n",
              "      <th>23805</th>\n",
              "      <td>31.111111</td>\n",
              "      <td>32.647751</td>\n",
              "    </tr>\n",
              "    <tr>\n",
              "      <th>23806</th>\n",
              "      <td>31.111111</td>\n",
              "      <td>30.602551</td>\n",
              "    </tr>\n",
              "    <tr>\n",
              "      <th>23807</th>\n",
              "      <td>36.666667</td>\n",
              "      <td>31.625151</td>\n",
              "    </tr>\n",
              "  </tbody>\n",
              "</table>\n",
              "<p>23808 rows × 2 columns</p>\n",
              "</div>"
            ],
            "text/plain": [
              "          Actual  Predicted\n",
              "0      28.888889  33.670351\n",
              "1      31.111111  30.091251\n",
              "2      27.222222  26.512151\n",
              "3      28.888889  31.113851\n",
              "4      23.333333  15.774852\n",
              "...          ...        ...\n",
              "23803  32.777778  32.136451\n",
              "23804  32.222222  29.068651\n",
              "23805  31.111111  32.647751\n",
              "23806  31.111111  30.602551\n",
              "23807  36.666667  31.625151\n",
              "\n",
              "[23808 rows x 2 columns]"
            ]
          },
          "metadata": {
            "tags": []
          },
          "execution_count": 32
        }
      ]
    },
    {
      "cell_type": "code",
      "metadata": {
        "id": "pelK47BBko3x",
        "colab_type": "code",
        "outputId": "94c54340-641a-4b44-fab3-1cfe0fc5a02c",
        "colab": {
          "base_uri": "https://localhost:8080/",
          "height": 611
        }
      },
      "source": [
        "df1 = df.head(25)\n",
        "df1.plot(kind='bar',figsize=(16,10))"
      ],
      "execution_count": 0,
      "outputs": [
        {
          "output_type": "execute_result",
          "data": {
            "text/plain": [
              "<matplotlib.axes._subplots.AxesSubplot at 0x7faa436e87b8>"
            ]
          },
          "metadata": {
            "tags": []
          },
          "execution_count": 33
        },
        {
          "output_type": "display_data",
          "data": {
            "image/png": "[encoded data removed]",
            "text/plain": [
              "<Figure size 1152x720 with 1 Axes>"
            ]
          },
          "metadata": {
            "tags": []
          }
        }
      ]
    },
    {
      "cell_type": "code",
      "metadata": {
        "id": "HNtR2Tl1k92B",
        "colab_type": "code",
        "outputId": "d0b4d948-d7f7-474e-f4c8-a630c0c497eb",
        "colab": {
          "base_uri": "https://localhost:8080/",
          "height": 265
        }
      },
      "source": [
        "plt.scatter(X_test, Y_test,  color='gray')\n",
        "plt.plot(X_test, Y_pred, color='red', linewidth=2)\n",
        "plt.show()"
      ],
      "execution_count": 0,
      "outputs": [
        {
          "output_type": "display_data",
          "data": {
            "image/png": "[encoded data removed]",
            "text/plain": [
              "<Figure size 432x288 with 1 Axes>"
            ]
          },
          "metadata": {
            "tags": []
          }
        }
      ]
    },
    {
      "cell_type": "code",
      "metadata": {
        "id": "3EOVcoT6lgAy",
        "colab_type": "code",
        "outputId": "a6b6709d-e425-480a-af0e-fcbb7804d7c4",
        "colab": {
          "base_uri": "https://localhost:8080/",
          "height": 68
        }
      },
      "source": [
        "print('Mean absolute error',metrics.mean_absolute_error(Y_test,Y_pred))\n",
        "print('Mean squared error',metrics.mean_squared_error(Y_test,Y_pred))\n",
        "print('Root mean squared error',sqrt(metrics.mean_squared_error(Y_test,Y_pred)))"
      ],
      "execution_count": 0,
      "outputs": [
        {
          "output_type": "stream",
          "text": [
            "Mean absolute error 3.19932917837853\n",
            "Mean squared error 17.631568097568447\n",
            "Root mean squared error 4.198996082109204\n"
          ],
          "name": "stdout"
        }
      ]
    }
  ]
}